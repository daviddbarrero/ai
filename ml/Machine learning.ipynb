{
 "cells": [
  {
   "cell_type": "code",
   "execution_count": 3,
   "metadata": {},
   "outputs": [],
   "source": [
    "## Machine learning and Ai Notebook \n",
    "## By David Barrero\n",
    "## https://neuman.tech"
   ]
  },
  {
   "cell_type": "raw",
   "metadata": {},
   "source": [
    "Contents : \n",
    "    - Linear regression one variable \n",
    "    - Linear regression two & more variables\n",
    "    - Logistic regression\n",
    "    - Clustering & clasification\n",
    "    - Tress & random forest \n",
    "    - Support vector machine\n",
    "    - K nearest neighbors\n",
    "    - Recomendation systems \n",
    "    - Neural networks\n",
    "    - Deep learning "
   ]
  },
  {
   "cell_type": "code",
   "execution_count": null,
   "metadata": {},
   "outputs": [],
   "source": []
  },
  {
   "cell_type": "raw",
   "metadata": {},
   "source": [
    "Diferents types of Machine learnig :\n",
    "    - SUPERVISED \n",
    "        In Supervised learning, you train the machine using data which is well \"labeled.\" It means some data is           already tagged with the correct answer. It can be compared to learning which takes place in the presence         of a supervisor or a teacher.\n",
    "    \n",
    "    UNSUPERVISEED \n",
    "        Unsupervised learning is a machine learning technique, where you do not need to supervise the model.             Instead, you need to allow the model to work on its own to discover information. It mainly deals with the         unlabelled data."
   ]
  },
  {
   "cell_type": "markdown",
   "metadata": {},
   "source": [
    "#### Linear regression"
   ]
  },
  {
   "cell_type": "raw",
   "metadata": {},
   "source": [
    "There are two types of supervised machine learning algorithms: Regression and classification. The former predicts continuous value outputs while the latter predicts discrete outputs. For instance, predicting the price of a house in dollars is a regression problem whereas predicting whether a tumor is malignant or benign is a classification problem."
   ]
  },
  {
   "cell_type": "raw",
   "metadata": {},
   "source": [
    "Linear Regression Theory\n",
    "\n",
    "The term “linearity” in algebra refers to a linear relationship between two or more variables. If we draw this relationship in a two-dimensional space (between two variables), we get a straight line.\n",
    "Linear regression performs the task to predict a dependent variable value (y) based on a given independent variable (x). So, this regression technique finds out a linear relationship between x (input) and y(output). Hence, the name is Linear Regression. If we plot the independent variable (x) on the x-axis and dependent variable (y) on the y-axis, linear regression gives us a straight line that best fits the data points\n",
    "\n",
    "Y= mx + b      More of this here https://towardsdatascience.com/a-beginners-guide-to-linear-regression-in-python-with-scikit-learn-83a8f7ae2b4f"
   ]
  },
  {
   "cell_type": "code",
   "execution_count": 5,
   "metadata": {},
   "outputs": [
    {
     "ename": "NameError",
     "evalue": "name 'target' is not defined",
     "output_type": "error",
     "traceback": [
      "\u001b[0;31m---------------------------------------------------------------------------\u001b[0m",
      "\u001b[0;31mNameError\u001b[0m                                 Traceback (most recent call last)",
      "\u001b[0;32m<ipython-input-5-9d71ab4ed534>\u001b[0m in \u001b[0;36m<module>\u001b[0;34m\u001b[0m\n\u001b[1;32m     13\u001b[0m \u001b[0;34m\u001b[0m\u001b[0m\n\u001b[1;32m     14\u001b[0m \u001b[0mX\u001b[0m \u001b[0;34m=\u001b[0m \u001b[0mdf\u001b[0m\u001b[0;34m[\u001b[0m\u001b[0;34m\"cigarettes\"\u001b[0m\u001b[0;34m]\u001b[0m\u001b[0;34m\u001b[0m\u001b[0m\n\u001b[0;32m---> 15\u001b[0;31m \u001b[0my\u001b[0m \u001b[0;34m=\u001b[0m \u001b[0mtarget\u001b[0m\u001b[0;34m[\u001b[0m\u001b[0;34m\"CVD\"\u001b[0m\u001b[0;34m]\u001b[0m\u001b[0;34m\u001b[0m\u001b[0m\n\u001b[0m\u001b[1;32m     16\u001b[0m \u001b[0;34m\u001b[0m\u001b[0m\n\u001b[1;32m     17\u001b[0m \u001b[0mmodel\u001b[0m\u001b[0;34m.\u001b[0m\u001b[0mfit\u001b[0m\u001b[0;34m(\u001b[0m\u001b[0mx\u001b[0m\u001b[0;34m,\u001b[0m \u001b[0my\u001b[0m\u001b[0;34m)\u001b[0m\u001b[0;34m\u001b[0m\u001b[0m\n",
      "\u001b[0;31mNameError\u001b[0m: name 'target' is not defined"
     ]
    },
    {
     "data": {
      "image/png": "[encoded data removed]",
      "text/plain": [
       "<Figure size 432x288 with 1 Axes>"
      ]
     },
     "metadata": {
      "needs_background": "light"
     },
     "output_type": "display_data"
    }
   ],
   "source": [
    "import numpy, pandas\n",
    "import matplotlib.pyplot as plt\n",
    "from sklearn.linear_model import LinearRegression\n",
    "\n",
    "# Lets make a simple datasrt \n",
    "df = pandas.DataFrame(\n",
    "    {\"cigarettes\": [0,10,20,30],\n",
    "     \"CVD\": [572,802,892,1025],\n",
    "     \"lung\": [14,105,208,355]});\n",
    "\n",
    "# We show the varuiables in de ploy\n",
    "df.plot(\"cigarettes\", \"CVD\", kind=\"scatter\")\n",
    "\n",
    "X = df[\"cigarettes\"]\n",
    "y = target[\"CVD\"]\n",
    "\n",
    "model.fit(x, y)\n",
    "model = LinearRegression()"
   ]
  },
  {
   "cell_type": "code",
   "execution_count": 18,
   "metadata": {},
   "outputs": [],
   "source": [
    "## Data cleaning and wragging \n",
    "\n",
    "# One of the things in machine learning that you are going to most of the time is cleaning the data \n",
    "## And wraggin it here lets take the colums that we want for our models "
   ]
  },
  {
   "cell_type": "code",
   "execution_count": 6,
   "metadata": {},
   "outputs": [
    {
     "name": "stdout",
     "output_type": "stream",
     "text": [
      "ID\n",
      "name\n",
      "category\n",
      "main_category\n",
      "currency\n",
      "deadline\n",
      "goal\n",
      "launched\n",
      "pledged\n",
      "state\n",
      "backers\n",
      "country\n",
      "usd pledged\n",
      "usd_pledged_real\n",
      "usd_goal_real\n"
     ]
    }
   ],
   "source": [
    "# Show all the colums \n",
    "for col in dataset.columns: \n",
    "    print(col) "
   ]
  },
  {
   "cell_type": "code",
   "execution_count": 29,
   "metadata": {},
   "outputs": [],
   "source": [
    "# We are going to take some colums that we dont need \n",
    "# This is a dataset of cars info, lets clean it and and take the values of \n",
    "\n",
    "# dataset[(dataset.location == 'Italy') | (dataset.location == 'United States')]\n",
    "# dataset[(dataset.location == 'Italy')]"
   ]
  },
  {
   "cell_type": "code",
   "execution_count": null,
   "metadata": {},
   "outputs": [],
   "source": [
    "# Now that we have the database let`s do the Linear regression model "
   ]
  }
 ],
 "metadata": {
  "kernelspec": {
   "display_name": "Python 3",
   "language": "python",
   "name": "python3"
  },
  "language_info": {
   "codemirror_mode": {
    "name": "ipython",
    "version": 3
   },
   "file_extension": ".py",
   "mimetype": "text/x-python",
   "name": "python",
   "nbconvert_exporter": "python",
   "pygments_lexer": "ipython3",
   "version": "3.7.0"
  }
 },
 "nbformat": 4,
 "nbformat_minor": 2
}
