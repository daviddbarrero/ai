{
 "cells": [
  {
   "cell_type": "code",
   "execution_count": 2,
   "metadata": {},
   "outputs": [
    {
     "name": "stdout",
     "output_type": "stream",
     "text": [
      "PreFlop(\n",
      "  (fc1): Linear(in_features=3, out_features=64, bias=True)\n",
      "  (fc2): Linear(in_features=64, out_features=64, bias=True)\n",
      "  (fc3): Linear(in_features=64, out_features=64, bias=True)\n",
      "  (fc4): Linear(in_features=64, out_features=3, bias=True)\n",
      ")\n"
     ]
    }
   ],
   "source": [
    "import torch\n",
    "import torch.nn as nn\n",
    "import torch.nn.functional as F\n",
    "\n",
    "# We set the palete to 1:Hearts, 2:Diamonts, 3:Trebol, 4:Piqas\n",
    "\n",
    "# Numbers goes :  2,3,4,5,6,7,8,9,10,11,12,13\n",
    "\n",
    "# [0,1 wins] [1,0] looses \n",
    "\n",
    "\n",
    "\n",
    "class PreFlop(nn.Module):\n",
    "    def __init__(self):\n",
    "        super().__init__()\n",
    "        # define layers\n",
    "        self.fc1 = nn.Linear(4, 64)\n",
    "        self.fc2 = nn.Linear(64, 64)\n",
    "        self.fc3 = nn.Linear(64, 64)\n",
    "        self.fc4 = nn.Linear(64, 3) # 10 numbers of output\n",
    "    \n",
    "    def forward(self, x):\n",
    "        x = F.relu(self.fc1(x))\n",
    "        x = F.relu(self.fc2(x))\n",
    "        x = F.relu(self.fc3(x))\n",
    "        x = self.fc4(x)\n",
    "        \n",
    "        return F.log_softmax(x, dim=1) #\n",
    "     \n",
    "        \n",
    "\n",
    "net = PreFlop()\n",
    "print(net)\n",
    "        \n",
    "        "
   ]
  },
  {
   "cell_type": "code",
   "execution_count": 6,
   "metadata": {},
   "outputs": [
    {
     "name": "stdout",
     "output_type": "stream",
     "text": [
      "[[[23], [13, 4], [12, 1], [0, 1]], [[23], [13, 4], [12, 1], [0, 1]], [[23], [13, 4], [12, 1], [0, 1]], [[23], [13, 4], [12, 1], [0, 1]], [[23], [13, 4], [12, 1], [0, 1]], [[23], [13, 4], [12, 1], [0, 1]], [[23], [13, 4], [12, 1], [0, 1]], [[23], [13, 4], [12, 1], [0, 1]], [[23], [13, 4], [12, 1], [0, 1]], [[23], [13, 4], [12, 1], [0, 1]], [[23], [13, 4], [12, 1], [0, 1]], [[23], [13, 4], [12, 1], [0, 1]], [[23], [13, 4], [12, 1], [0, 1]], [[23], [13, 4], [12, 1], [0, 1]], [[23], [13, 4], [12, 1], [0, 1]], [[23], [13, 4], [12, 1], [0, 1]], [[23], [13, 4], [12, 1], [0, 1]]]\n"
     ]
    }
   ],
   "source": [
    "preflopdata =  [[[23],[13,4], [12,1],[0,1]] , [[23],[13,4], [12,1],[0,1]]\n",
    "                , [[23],[13,4], [12,1],[0,1]], [[23],[13,4], [12,1],[0,1]],\n",
    "                 [[23],[13,4], [12,1],[0,1]], [[23],[13,4], [12,1],[0,1]]\n",
    "                , [[23],[13,4], [12,1],[0,1]], [[23],[13,4], [12,1],[0,1]],\n",
    "                 [[23],[13,4], [12,1],[0,1]], [[23],[13,4], [12,1],[0,1]]\n",
    "                , [[23],[13,4], [12,1],[0,1]], [[23],[13,4], [12,1],[0,1]],\n",
    "                 [[23],[13,4], [12,1],[0,1]], [[23],[13,4], [12,1],[0,1]], [[23],[13,4], [12,1],[0,1]],\n",
    "                 [[23],[13,4], [12,1],[0,1]], [[23],[13,4], [12,1],[0,1]]]\n",
    "print(preflopdata)"
   ]
  },
  {
   "cell_type": "code",
   "execution_count": null,
   "metadata": {},
   "outputs": [],
   "source": []
  },
  {
   "cell_type": "code",
   "execution_count": 8,
   "metadata": {},
   "outputs": [
    {
     "ename": "ValueError",
     "evalue": "too many values to unpack (expected 2)",
     "output_type": "error",
     "traceback": [
      "\u001b[0;31m------------------------------------------------------------------------\u001b[0m",
      "\u001b[0;31mValueError\u001b[0m                             Traceback (most recent call last)",
      "\u001b[0;32m<ipython-input-8-f1c9a833da71>\u001b[0m in \u001b[0;36m<module>\u001b[0;34m\u001b[0m\n\u001b[1;32m      8\u001b[0m     \u001b[0;32mfor\u001b[0m \u001b[0mdata\u001b[0m \u001b[0;32min\u001b[0m \u001b[0mpreflopdata\u001b[0m\u001b[0;34m:\u001b[0m\u001b[0;34m\u001b[0m\u001b[0m\n\u001b[1;32m      9\u001b[0m         \u001b[0;31m# data is a back of featuresets and labels\u001b[0m\u001b[0;34m\u001b[0m\u001b[0;34m\u001b[0m\u001b[0m\n\u001b[0;32m---> 10\u001b[0;31m         \u001b[0mX\u001b[0m\u001b[0;34m,\u001b[0m \u001b[0my\u001b[0m \u001b[0;34m=\u001b[0m \u001b[0mdata\u001b[0m\u001b[0;34m\u001b[0m\u001b[0m\n\u001b[0m\u001b[1;32m     11\u001b[0m         \u001b[0mnet\u001b[0m\u001b[0;34m.\u001b[0m\u001b[0mzero_grad\u001b[0m\u001b[0;34m(\u001b[0m\u001b[0;34m)\u001b[0m\u001b[0;34m\u001b[0m\u001b[0m\n\u001b[1;32m     12\u001b[0m         \u001b[0moutput\u001b[0m \u001b[0;34m=\u001b[0m \u001b[0mnet\u001b[0m\u001b[0;34m(\u001b[0m\u001b[0mX\u001b[0m\u001b[0;34m.\u001b[0m\u001b[0mview\u001b[0m\u001b[0;34m(\u001b[0m\u001b[0;34m-\u001b[0m\u001b[0;36m1\u001b[0m\u001b[0;34m,\u001b[0m \u001b[0;36m28\u001b[0m\u001b[0;34m*\u001b[0m\u001b[0;36m28\u001b[0m\u001b[0;34m)\u001b[0m\u001b[0;34m)\u001b[0m\u001b[0;34m\u001b[0m\u001b[0m\n",
      "\u001b[0;31mValueError\u001b[0m: too many values to unpack (expected 2)"
     ]
    }
   ],
   "source": [
    "import torch.optim as optim\n",
    "\n",
    "optimizer = optim.Adam(net.parameters(), lr=0.001)\n",
    "\n",
    "EPOCHS =  10\n",
    "\n",
    "for epoch in range(EPOCHS):\n",
    "    for data in preflopdata:\n",
    "        # data is a back of featuresets and labels\n",
    "        X, y = data \n",
    "        net.zero_grad()\n",
    "        output = net(X.view(-1, 28*28))\n",
    "        loss = F.nll_loss(output, y)\n",
    "        loss.backward()\n",
    "        optimizer.step()\n",
    "        print(loss)\n",
    "    print(loss)"
   ]
  },
  {
   "cell_type": "code",
   "execution_count": null,
   "metadata": {},
   "outputs": [],
   "source": []
  },
  {
   "cell_type": "code",
   "execution_count": null,
   "metadata": {},
   "outputs": [],
   "source": []
  },
  {
   "cell_type": "code",
   "execution_count": null,
   "metadata": {},
   "outputs": [],
   "source": []
  },
  {
   "cell_type": "code",
   "execution_count": null,
   "metadata": {},
   "outputs": [],
   "source": []
  }
 ],
 "metadata": {
  "kernelspec": {
   "display_name": "Python 3",
   "language": "python",
   "name": "python3"
  },
  "language_info": {
   "codemirror_mode": {
    "name": "ipython",
    "version": 3
   },
   "file_extension": ".py",
   "mimetype": "text/x-python",
   "name": "python",
   "nbconvert_exporter": "python",
   "pygments_lexer": "ipython3",
   "version": "3.7.0"
  }
 },
 "nbformat": 4,
 "nbformat_minor": 2
}
